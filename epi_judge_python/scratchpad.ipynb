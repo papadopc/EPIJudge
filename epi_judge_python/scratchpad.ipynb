{
 "cells": [
  {
   "cell_type": "code",
   "execution_count": 7,
   "metadata": {
    "collapsed": true
   },
   "outputs": [],
   "source": [
    "from typing import List"
   ]
  },
  {
   "cell_type": "code",
   "execution_count": 31,
   "metadata": {},
   "outputs": [],
   "source": [
    "def matrix_in_spiral_order(square_matrix: List[List[int]]) -> List[int]:\n",
    "\n",
    "    def matrix_layer_in_clockwise(offset):\n",
    "        if offset == len(square_matrix) - offset - 1:\n",
    "            spiral_ordering.append(square_matrix[offset][offset])\n",
    "            return\n",
    "\n",
    "        spiral_ordering.extend(square_matrix[offset][offset:-1-offset])\n",
    "        spiral_ordering.extend(\n",
    "            list(zip(*square_matrix))[-1-offset][offset:-1-offset])\n",
    "        spiral_ordering.extend(square_matrix[-1-offset][-1-offset:offset:-1])\n",
    "        spiral_ordering.extend(list(zip(*square_matrix))[offset][-1-offset:offset:-1])\n",
    "\n",
    "    spiral_ordering: List[int] = []\n",
    "    for offset in range((len(square_matrix)+1)//2):\n",
    "        matrix_layer_in_clockwise(offset)\n",
    "    return spiral_ordering"
   ]
  },
  {
   "cell_type": "code",
   "execution_count": 32,
   "metadata": {
    "collapsed": true
   },
   "outputs": [],
   "source": [
    "a = [[4, 2], [3, 1]]"
   ]
  },
  {
   "cell_type": "code",
   "execution_count": 33,
   "metadata": {},
   "outputs": [
    {
     "data": {
      "text/plain": [
       "[4, 2, 1, 3]"
      ]
     },
     "execution_count": 33,
     "metadata": {},
     "output_type": "execute_result"
    }
   ],
   "source": [
    "matrix_in_spiral_order(a)"
   ]
  },
  {
   "cell_type": "code",
   "execution_count": 36,
   "metadata": {
    "collapsed": true
   },
   "outputs": [],
   "source": [
    "a = [ [1,2,3],[4,5,6],[7,8,9]]"
   ]
  },
  {
   "cell_type": "code",
   "execution_count": 38,
   "metadata": {},
   "outputs": [
    {
     "data": {
      "text/plain": [
       "2"
      ]
     },
     "execution_count": 38,
     "metadata": {},
     "output_type": "execute_result"
    }
   ],
   "source": [
    "a[0][1]"
   ]
  },
  {
   "cell_type": "code",
   "execution_count": null,
   "metadata": {
    "collapsed": true
   },
   "outputs": [],
   "source": []
  }
 ],
 "metadata": {
  "kernelspec": {
   "display_name": "Python 3",
   "language": "python",
   "name": "python3"
  },
  "language_info": {
   "codemirror_mode": {
    "name": "ipython",
    "version": 3
   },
   "file_extension": ".py",
   "mimetype": "text/x-python",
   "name": "python",
   "nbconvert_exporter": "python",
   "pygments_lexer": "ipython3",
   "version": "3.6.3"
  }
 },
 "nbformat": 4,
 "nbformat_minor": 2
}
